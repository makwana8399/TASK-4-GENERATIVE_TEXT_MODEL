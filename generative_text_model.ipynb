{
  "nbformat": 4,
  "nbformat_minor": 0,
  "metadata": {
    "colab": {
      "provenance": [],
      "authorship_tag": "ABX9TyNr/BXk7XU6aSH59//KyiL2",
      "include_colab_link": true
    },
    "kernelspec": {
      "name": "python3",
      "display_name": "Python 3"
    },
    "language_info": {
      "name": "python"
    }
  },
  "cells": [
    {
      "cell_type": "markdown",
      "metadata": {
        "id": "view-in-github",
        "colab_type": "text"
      },
      "source": [
        "<a href=\"https://colab.research.google.com/github/makwana8399/TASK-4-GENERATIVE_TEXT_MODEL/blob/main/generative_text_model.ipynb\" target=\"_parent\"><img src=\"https://colab.research.google.com/assets/colab-badge.svg\" alt=\"Open In Colab\"/></a>"
      ]
    },
    {
      "cell_type": "code",
      "source": [
        "!pip install -q torch transformers gradio"
      ],
      "metadata": {
        "id": "CLSWMDgNKL-D"
      },
      "execution_count": null,
      "outputs": []
    },
    {
      "cell_type": "code",
      "source": [
        "# Import libraries\n",
        "import gradio as gr\n",
        "from transformers import GPT2LMHeadModel, GPT2Tokenizer\n",
        "\n",
        "# Load model and tokenizer\n",
        "tokenizer = GPT2Tokenizer.from_pretrained(\"gpt2\")\n",
        "model = GPT2LMHeadModel.from_pretrained(\"gpt2\")\n",
        "tokenizer.pad_token = tokenizer.eos_token  # Set pad token\n",
        "\n",
        "def generate_paragraph(topic: str, length: int = 150) -> str:\n",
        "    \"\"\"Generates a coherent paragraph about the given topic\"\"\"\n",
        "    prompt = f\"Write a detailed paragraph about {topic}:\\n\\n\"\n",
        "    inputs = tokenizer(prompt, return_tensors=\"pt\")\n",
        "    outputs = model.generate(\n",
        "        inputs.input_ids,\n",
        "        max_length=length,\n",
        "        num_beams=5,\n",
        "        no_repeat_ngram_size=3,\n",
        "        early_stopping=True,\n",
        "        temperature=0.7,\n",
        "        do_sample=True\n",
        "    )\n",
        "    generated_text = tokenizer.decode(outputs[0], skip_special_tokens=True)\n",
        "    return generated_text[len(prompt):].strip() if generated_text.startswith(prompt) else generated_text.strip()\n",
        "\n",
        "# Create and launch interface\n",
        "gr.Interface(\n",
        "    fn=generate_paragraph,\n",
        "    inputs=[\n",
        "        gr.Textbox(label=\"Topic\", placeholder=\"e.g. quantum computing\"),\n",
        "        gr.Slider(50, 300, value=150, label=\"Output Length (tokens)\")\n",
        "    ],\n",
        "    outputs=gr.Textbox(label=\"Generated Paragraph 📝\"),\n",
        "    title=\"GENERATIVE TEXT MODEL (GPT🤖)\",\n",
        "    description=\"Enter any topic to generate a coherent paragraph 🖊️\",\n",
        "    examples=[[\"Neural networks\"], [\"Climate Change\"], [\"Ancient Roman History\"]]\n",
        ").launch()"
      ],
      "metadata": {
        "colab": {
          "base_uri": "https://localhost:8080/",
          "height": 646
        },
        "id": "2RHrc42qzqb0",
        "outputId": "eaada1ca-1fb4-41ec-9d1d-092fc5b21881"
      },
      "execution_count": null,
      "outputs": [
        {
          "output_type": "stream",
          "name": "stdout",
          "text": [
            "It looks like you are running Gradio on a hosted a Jupyter notebook. For the Gradio app to work, sharing must be enabled. Automatically setting `share=True` (you can turn this off by setting `share=False` in `launch()` explicitly).\n",
            "\n",
            "Colab notebook detected. To show errors in colab notebook, set debug=True in launch()\n",
            "* Running on public URL: https://5122cb4fd8261393fc.gradio.live\n",
            "\n",
            "This share link expires in 1 week. For free permanent hosting and GPU upgrades, run `gradio deploy` from the terminal in the working directory to deploy to Hugging Face Spaces (https://huggingface.co/spaces)\n"
          ]
        },
        {
          "output_type": "display_data",
          "data": {
            "text/plain": [
              "<IPython.core.display.HTML object>"
            ],
            "text/html": [
              "<div><iframe src=\"https://5122cb4fd8261393fc.gradio.live\" width=\"100%\" height=\"500\" allow=\"autoplay; camera; microphone; clipboard-read; clipboard-write;\" frameborder=\"0\" allowfullscreen></iframe></div>"
            ]
          },
          "metadata": {}
        },
        {
          "output_type": "execute_result",
          "data": {
            "text/plain": []
          },
          "metadata": {},
          "execution_count": 12
        }
      ]
    }
  ]
}